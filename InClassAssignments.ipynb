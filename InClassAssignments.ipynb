{
  "nbformat": 4,
  "nbformat_minor": 0,
  "metadata": {
    "colab": {
      "provenance": [],
      "authorship_tag": "ABX9TyPNm9sOqlUWfgPZI0LST1kb",
      "include_colab_link": true
    },
    "kernelspec": {
      "name": "python3",
      "display_name": "Python 3"
    },
    "language_info": {
      "name": "python"
    }
  },
  "cells": [
    {
      "cell_type": "markdown",
      "metadata": {
        "id": "view-in-github",
        "colab_type": "text"
      },
      "source": [
        "<a href=\"https://colab.research.google.com/github/kamajayi/bte320/blob/main/InClassAssignments.ipynb\" target=\"_parent\"><img src=\"https://colab.research.google.com/assets/colab-badge.svg\" alt=\"Open In Colab\"/></a>"
      ]
    },
    {
      "cell_type": "code",
      "execution_count": null,
      "metadata": {
        "colab": {
          "base_uri": "https://localhost:8080/"
        },
        "id": "rDx5XzALaS4S",
        "outputId": "c503abdc-a82d-4fb9-8aea-a8083ad81400"
      },
      "outputs": [
        {
          "output_type": "stream",
          "name": "stdout",
          "text": [
            "enter sales ($): 12000\n",
            "Gross profit: $7200.0\n"
          ]
        }
      ],
      "source": [
        "sales = float(input('enter sales ($): '))\n",
        "cog = 0.4\n",
        "\n",
        "grossProfit = sales - (cog * sales)\n",
        "print(f\"Gross profit: ${grossProfit}\")"
      ]
    },
    {
      "cell_type": "code",
      "source": [
        "sales = float(input('Enter sales ($):'))\n",
        "print(f\"Sales: ${sales}\")\n",
        "tax_rate = float(input('Enter tax rate (%):'))\n",
        "\n",
        "# Cost of Goods Sold\n",
        "cog = 0.4\n",
        "cog_sold = sales * cog\n",
        "print(f\"Cog: ${cog_sold}\")\n",
        "\n",
        "# Gross Profit\n",
        "grossProfit = sales - cog_sold\n",
        "print(f\"Gross profit: ${grossProfit}\")\n",
        "\n",
        "# Taxes\n",
        "tax = grossProfit * (tax_rate / 100)\n",
        "print(f\"Tax: ${tax}\")\n",
        "\n",
        "# Net income\n",
        "netIncome = grossProfit - tax\n",
        "print(f\"Net_income: ${netIncome}\")"
      ],
      "metadata": {
        "colab": {
          "base_uri": "https://localhost:8080/"
        },
        "id": "Z7TtsYpWfGMt",
        "outputId": "c5cc4e35-23af-44d4-d3b3-bcad82e8dfc8"
      },
      "execution_count": null,
      "outputs": [
        {
          "output_type": "stream",
          "name": "stdout",
          "text": [
            "Enter sales ($):12000\n",
            "Sales: $12000.0\n",
            "Enter tax rate (%):30\n",
            "Cog: $4800.0\n",
            "Gross profit: $7200.0\n",
            "Tax: $2160.0\n",
            "Net_income: $5040.0\n"
          ]
        }
      ]
    },
    {
      "cell_type": "markdown",
      "source": [
        "9/11/2025 - Numerical Calculator"
      ],
      "metadata": {
        "id": "97rP1uKoqUIL"
      }
    },
    {
      "cell_type": "code",
      "source": [
        "num1 = float(input(\"First number: \"))\n",
        "num2 = float(input(\"Second number: \"))\n",
        "op = input(\"Choose numerical operator (+, -, /, //, **, %): \")\n",
        "\n",
        "if op == '+':\n",
        "    print(f\"{num1} + {num2} = {num1 + num2}\")\n",
        "elif op == '-':\n",
        "    print(f\"{num1} - {num2} = {num1 - num2}\")\n",
        "elif op == '*':\n",
        "    print(f\"{num1} * {num2} = {num1 * num2}\")\n",
        "elif op == '/':\n",
        "    print(f\"{num1} / {num2} = {num1 / num2}\")\n",
        "elif op == '//':\n",
        "    print(f\"{num1} // {num2} = {num1 // num2}\")\n",
        "elif op == '**':\n",
        "    print(f\"{num1} ** {num2} = {num1 ** num2}\")\n",
        "elif op == '%':\n",
        "    print(f\"{num1} mod {num2} = {num1 % num2}\")\n",
        "else:\n",
        "    print('Invalid operator')"
      ],
      "metadata": {
        "colab": {
          "base_uri": "https://localhost:8080/"
        },
        "id": "AVg5QWVSqkPN",
        "outputId": "87484e2f-2db7-4b06-d3d7-921bea158421"
      },
      "execution_count": null,
      "outputs": [
        {
          "output_type": "stream",
          "name": "stdout",
          "text": [
            "First number: 3\n",
            "Second number: 5\n",
            "Choose numerical operator (+, -, /, //, **, %): **\n",
            "3.0 ** 5.0 = 243.0\n"
          ]
        }
      ]
    },
    {
      "cell_type": "markdown",
      "source": [
        "9/16/25 - Parking Garage (For/While Loop)"
      ],
      "metadata": {
        "id": "wHNJ2XbIbtBe"
      }
    },
    {
      "cell_type": "code",
      "source": [
        "for hours in range(1, 9):\n",
        "  print(hours, 5 + hours * 2.5 )\n",
        "\n"
      ],
      "metadata": {
        "colab": {
          "base_uri": "https://localhost:8080/"
        },
        "id": "159HeB8sbyFh",
        "outputId": "aec1748e-7dd6-4414-b559-d252a9ad5c72"
      },
      "execution_count": null,
      "outputs": [
        {
          "output_type": "stream",
          "name": "stdout",
          "text": [
            "1 7.5\n",
            "2 10.0\n",
            "3 12.5\n",
            "4 15.0\n",
            "5 17.5\n",
            "6 20.0\n",
            "7 22.5\n",
            "8 25.0\n"
          ]
        }
      ]
    },
    {
      "cell_type": "code",
      "source": [
        "print ('# of hours\\tFee')\n",
        "print ('--------------------')\n",
        "for hours in range(1, 9):\n",
        "  print(f\"{hours}\\t\\t{5 + hours * 2.5}\")"
      ],
      "metadata": {
        "colab": {
          "base_uri": "https://localhost:8080/"
        },
        "id": "GcCtclNpgeBb",
        "outputId": "23ec1dc5-e1fd-446f-9f45-611dd459791f"
      },
      "execution_count": null,
      "outputs": [
        {
          "output_type": "stream",
          "name": "stdout",
          "text": [
            "# of hours\tFee\n",
            "--------------------\n",
            "1\t\t7.5\n",
            "2\t\t10.0\n",
            "3\t\t12.5\n",
            "4\t\t15.0\n",
            "5\t\t17.5\n",
            "6\t\t20.0\n",
            "7\t\t22.5\n",
            "8\t\t25.0\n"
          ]
        }
      ]
    },
    {
      "cell_type": "code",
      "source": [
        "print ('# of hours\\tFee')\n",
        "print ('--------------------')\n",
        "for hours in range(1, 9):\n",
        "  fee = 5 + hours * 2.5\n",
        "  if fee < 10:\n",
        "   fee = 10.0\n",
        "   print(f\"{hours}\\t\\t{fee}\")\n",
        "  elif fee > 20:\n",
        "    fee = 20.0\n",
        "    print(f\"{hours}\\t\\t{fee}\")\n",
        "else:\n",
        "   print(f\"{hours}\\t\\t{fee}\")"
      ],
      "metadata": {
        "colab": {
          "base_uri": "https://localhost:8080/"
        },
        "id": "aX_UFnJKiAIs",
        "outputId": "0fc326ea-0d3a-46a4-f024-cca28851b653"
      },
      "execution_count": null,
      "outputs": [
        {
          "output_type": "stream",
          "name": "stdout",
          "text": [
            "# of hours\tFee\n",
            "--------------------\n",
            "1\t\t10.0\n",
            "7\t\t20.0\n",
            "8\t\t20.0\n",
            "8\t\t20.0\n"
          ]
        }
      ]
    },
    {
      "cell_type": "markdown",
      "source": [
        "9/18/25 Movie Theater (For/While Loop)"
      ],
      "metadata": {
        "id": "IPzvUmCRvnYW"
      }
    },
    {
      "cell_type": "code",
      "source": [
        "for Ad in range (0, 201, 25):\n",
        " revenue = 10 * (20 + 2 * Ad ** 0.5) - 200 - Ad\n",
        " print(Ad, round(revenue, 1))"
      ],
      "metadata": {
        "colab": {
          "base_uri": "https://localhost:8080/"
        },
        "id": "AiGrMWHWvtzV",
        "outputId": "b5238b5d-d1d5-46d6-ec09-8d4e2e106307"
      },
      "execution_count": null,
      "outputs": [
        {
          "output_type": "stream",
          "name": "stdout",
          "text": [
            "0 0.0\n",
            "25 75.0\n",
            "50 91.4\n",
            "75 98.2\n",
            "100 100.0\n",
            "125 98.6\n",
            "150 94.9\n",
            "175 89.6\n",
            "200 82.8\n"
          ]
        }
      ]
    },
    {
      "cell_type": "markdown",
      "source": [
        "9/30 Rock-Paper-Scissors (while loops)"
      ],
      "metadata": {
        "id": "SW67gqGGnenV"
      }
    },
    {
      "cell_type": "code",
      "source": [
        "import random\n",
        "\n",
        "print(\"Welcome to Rock, Paper, Scissors!\")\n",
        "\n",
        "# Ask if user wants to play\n",
        "play = input(\"Do you want to play? (yes/no): \").lower()\n",
        "\n",
        "while play == \"yes\":\n",
        "    # User choice\n",
        "    user = input(\"Choose rock, paper, or scissors: \").lower()\n",
        "\n",
        "    # Computer choice\n",
        "    computer = random.choice(['rock', 'paper', 'scissors'])\n",
        "    print(f\"Computer chose: {computer}\")\n",
        "\n",
        "    # Determine winner\n",
        "    if user == computer:\n",
        "        print(\"Draw\")\n",
        "    elif (user == \"rock\" and computer == \"scissors\") or \\\n",
        "         (user == \"paper\" and computer == \"rock\") or \\\n",
        "         (user == \"scissors\" and computer == \"paper\"):\n",
        "        print(\"You win!\")\n",
        "    elif user in [\"rock\", \"paper\", \"scissors\"]:\n",
        "        print(\"You lose!\")\n",
        "    else:\n",
        "        print(\"Invalid choice. Please pick rock, paper, or scissors.\")\n",
        "\n",
        "    # Ask to play again\n",
        "    play = input(\"Do you want to play again? (yes/no): \").lower()\n",
        "\n",
        "print(\"Thanks for playing!\")\n"
      ],
      "metadata": {
        "colab": {
          "base_uri": "https://localhost:8080/",
          "height": 382
        },
        "id": "m0RVIvpRoc6E",
        "outputId": "8998fd5e-f8b2-4804-f91f-fc9992d9b8b7"
      },
      "execution_count": 5,
      "outputs": [
        {
          "output_type": "stream",
          "name": "stdout",
          "text": [
            "Welcome to Rock, Paper, Scissors!\n"
          ]
        },
        {
          "output_type": "error",
          "ename": "KeyboardInterrupt",
          "evalue": "Interrupted by user",
          "traceback": [
            "\u001b[0;31m---------------------------------------------------------------------------\u001b[0m",
            "\u001b[0;31mKeyboardInterrupt\u001b[0m                         Traceback (most recent call last)",
            "\u001b[0;32m/tmp/ipython-input-2912279612.py\u001b[0m in \u001b[0;36m<cell line: 0>\u001b[0;34m()\u001b[0m\n\u001b[1;32m      4\u001b[0m \u001b[0;34m\u001b[0m\u001b[0m\n\u001b[1;32m      5\u001b[0m \u001b[0;31m# Ask if user wants to play\u001b[0m\u001b[0;34m\u001b[0m\u001b[0;34m\u001b[0m\u001b[0m\n\u001b[0;32m----> 6\u001b[0;31m \u001b[0mplay\u001b[0m \u001b[0;34m=\u001b[0m \u001b[0minput\u001b[0m\u001b[0;34m(\u001b[0m\u001b[0;34m\"Do you want to play? (yes/no): \"\u001b[0m\u001b[0;34m)\u001b[0m\u001b[0;34m.\u001b[0m\u001b[0mlower\u001b[0m\u001b[0;34m(\u001b[0m\u001b[0;34m)\u001b[0m\u001b[0;34m\u001b[0m\u001b[0;34m\u001b[0m\u001b[0m\n\u001b[0m\u001b[1;32m      7\u001b[0m \u001b[0;34m\u001b[0m\u001b[0m\n\u001b[1;32m      8\u001b[0m \u001b[0;32mwhile\u001b[0m \u001b[0mplay\u001b[0m \u001b[0;34m==\u001b[0m \u001b[0;34m\"yes\"\u001b[0m\u001b[0;34m:\u001b[0m\u001b[0;34m\u001b[0m\u001b[0;34m\u001b[0m\u001b[0m\n",
            "\u001b[0;32m/usr/local/lib/python3.12/dist-packages/ipykernel/kernelbase.py\u001b[0m in \u001b[0;36mraw_input\u001b[0;34m(self, prompt)\u001b[0m\n\u001b[1;32m   1175\u001b[0m                 \u001b[0;34m\"raw_input was called, but this frontend does not support input requests.\"\u001b[0m\u001b[0;34m\u001b[0m\u001b[0;34m\u001b[0m\u001b[0m\n\u001b[1;32m   1176\u001b[0m             )\n\u001b[0;32m-> 1177\u001b[0;31m         return self._input_request(\n\u001b[0m\u001b[1;32m   1178\u001b[0m             \u001b[0mstr\u001b[0m\u001b[0;34m(\u001b[0m\u001b[0mprompt\u001b[0m\u001b[0;34m)\u001b[0m\u001b[0;34m,\u001b[0m\u001b[0;34m\u001b[0m\u001b[0;34m\u001b[0m\u001b[0m\n\u001b[1;32m   1179\u001b[0m             \u001b[0mself\u001b[0m\u001b[0;34m.\u001b[0m\u001b[0m_parent_ident\u001b[0m\u001b[0;34m[\u001b[0m\u001b[0;34m\"shell\"\u001b[0m\u001b[0;34m]\u001b[0m\u001b[0;34m,\u001b[0m\u001b[0;34m\u001b[0m\u001b[0;34m\u001b[0m\u001b[0m\n",
            "\u001b[0;32m/usr/local/lib/python3.12/dist-packages/ipykernel/kernelbase.py\u001b[0m in \u001b[0;36m_input_request\u001b[0;34m(self, prompt, ident, parent, password)\u001b[0m\n\u001b[1;32m   1217\u001b[0m             \u001b[0;32mexcept\u001b[0m \u001b[0mKeyboardInterrupt\u001b[0m\u001b[0;34m:\u001b[0m\u001b[0;34m\u001b[0m\u001b[0;34m\u001b[0m\u001b[0m\n\u001b[1;32m   1218\u001b[0m                 \u001b[0;31m# re-raise KeyboardInterrupt, to truncate traceback\u001b[0m\u001b[0;34m\u001b[0m\u001b[0;34m\u001b[0m\u001b[0m\n\u001b[0;32m-> 1219\u001b[0;31m                 \u001b[0;32mraise\u001b[0m \u001b[0mKeyboardInterrupt\u001b[0m\u001b[0;34m(\u001b[0m\u001b[0;34m\"Interrupted by user\"\u001b[0m\u001b[0;34m)\u001b[0m \u001b[0;32mfrom\u001b[0m \u001b[0;32mNone\u001b[0m\u001b[0;34m\u001b[0m\u001b[0;34m\u001b[0m\u001b[0m\n\u001b[0m\u001b[1;32m   1220\u001b[0m             \u001b[0;32mexcept\u001b[0m \u001b[0mException\u001b[0m\u001b[0;34m:\u001b[0m\u001b[0;34m\u001b[0m\u001b[0;34m\u001b[0m\u001b[0m\n\u001b[1;32m   1221\u001b[0m                 \u001b[0mself\u001b[0m\u001b[0;34m.\u001b[0m\u001b[0mlog\u001b[0m\u001b[0;34m.\u001b[0m\u001b[0mwarning\u001b[0m\u001b[0;34m(\u001b[0m\u001b[0;34m\"Invalid Message:\"\u001b[0m\u001b[0;34m,\u001b[0m \u001b[0mexc_info\u001b[0m\u001b[0;34m=\u001b[0m\u001b[0;32mTrue\u001b[0m\u001b[0;34m)\u001b[0m\u001b[0;34m\u001b[0m\u001b[0;34m\u001b[0m\u001b[0m\n",
            "\u001b[0;31mKeyboardInterrupt\u001b[0m: Interrupted by user"
          ]
        }
      ]
    },
    {
      "cell_type": "code",
      "source": [],
      "metadata": {
        "id": "NMUgiIZ-o1OQ"
      },
      "execution_count": null,
      "outputs": []
    }
  ]
}