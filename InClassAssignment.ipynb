{
  "nbformat": 4,
  "nbformat_minor": 0,
  "metadata": {
    "colab": {
      "provenance": [],
      "authorship_tag": "ABX9TyMFh8E9LwwUE7w/bgk1TV80",
      "include_colab_link": true
    },
    "kernelspec": {
      "name": "python3",
      "display_name": "Python 3"
    },
    "language_info": {
      "name": "python"
    }
  },
  "cells": [
    {
      "cell_type": "markdown",
      "metadata": {
        "id": "view-in-github",
        "colab_type": "text"
      },
      "source": [
        "<a href=\"https://colab.research.google.com/github/kamajayi/bte320/blob/main/InClassAssignment.ipynb\" target=\"_parent\"><img src=\"https://colab.research.google.com/assets/colab-badge.svg\" alt=\"Open In Colab\"/></a>"
      ]
    },
    {
      "cell_type": "code",
      "execution_count": 10,
      "metadata": {
        "colab": {
          "base_uri": "https://localhost:8080/"
        },
        "id": "rDx5XzALaS4S",
        "outputId": "c503abdc-a82d-4fb9-8aea-a8083ad81400"
      },
      "outputs": [
        {
          "output_type": "stream",
          "name": "stdout",
          "text": [
            "enter sales ($): 12000\n",
            "Gross profit: $7200.0\n"
          ]
        }
      ],
      "source": [
        "sales = float(input('enter sales ($): '))\n",
        "cog = 0.4\n",
        "\n",
        "grossProfit = sales - (cog * sales)\n",
        "print(f\"Gross profit: ${grossProfit}\")"
      ]
    },
    {
      "cell_type": "code",
      "source": [
        "sales = float(input('Enter sales ($):'))\n",
        "print(f\"Sales: ${sales}\")\n",
        "tax_rate = float(input('Enter tax rate (%):'))\n",
        "\n",
        "# Cost of Goods Sold\n",
        "cog = 0.4\n",
        "cog_sold = sales * cog\n",
        "print(f\"Cog: ${cog_sold}\")\n",
        "\n",
        "# Gross Profit\n",
        "grossProfit = sales - cog_sold\n",
        "print(f\"Gross profit: ${grossProfit}\")\n",
        "\n",
        "# Taxes\n",
        "tax = grossProfit * (tax_rate / 100)\n",
        "print(f\"Tax: ${tax}\")\n",
        "\n",
        "# Net income\n",
        "netIncome = grossProfit - tax\n",
        "print(f\"Net_income: ${netIncome}\")"
      ],
      "metadata": {
        "colab": {
          "base_uri": "https://localhost:8080/"
        },
        "id": "Z7TtsYpWfGMt",
        "outputId": "c5cc4e35-23af-44d4-d3b3-bcad82e8dfc8"
      },
      "execution_count": 14,
      "outputs": [
        {
          "output_type": "stream",
          "name": "stdout",
          "text": [
            "Enter sales ($):12000\n",
            "Sales: $12000.0\n",
            "Enter tax rate (%):30\n",
            "Cog: $4800.0\n",
            "Gross profit: $7200.0\n",
            "Tax: $2160.0\n",
            "Net_income: $5040.0\n"
          ]
        }
      ]
    }
  ]
}